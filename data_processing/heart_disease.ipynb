{
 "cells": [
  {
   "cell_type": "markdown",
   "id": "5708bd0d-ce57-4d60-b150-3fb2db1375f7",
   "metadata": {},
   "source": [
    "### Importing modules and dataset."
   ]
  },
  {
   "cell_type": "code",
   "execution_count": 7,
   "id": "92d11a73-1c67-45b0-af1b-0c769eb0ee1e",
   "metadata": {},
   "outputs": [],
   "source": [
    "import pandas as pd\n",
    "from sklearn.model_selection import train_test_split\n",
    "from sklearn.ensemble import RandomForestClassifier\n",
    "\n",
    "heart = pd.read_csv('p_c.data')       \n",
    "        "
   ]
  },
  {
   "cell_type": "code",
   "execution_count": 8,
   "id": "a0a9c6d1-ef4e-4e11-8c75-4789c1864d0d",
   "metadata": {},
   "outputs": [],
   "source": [
    "heart.columns= ['age', 'sex', 'chest_pain', 'trestbps', 'chol', 'fbs', 'restecg', 'thalach', 'exang', 'oldpeak', 'slope', 'ca', 'thal', 'num']"
   ]
  },
  {
   "cell_type": "markdown",
   "id": "30df364c-f101-4aa1-8d3e-57272158acde",
   "metadata": {},
   "source": [
    "### Cleaning the data to remove null values."
   ]
  },
  {
   "cell_type": "code",
   "execution_count": 9,
   "id": "c010fec5-729c-410b-889f-240ccd3a0f5f",
   "metadata": {},
   "outputs": [],
   "source": [
    "heart_full = heart.drop([86, 165, 191, 265, 286, 301])\n",
    "heart_final = (heart_full.astype('float')).astype('int32')\n",
    "heart_final['num'] = (heart_final['num'] != 0)"
   ]
  },
  {
   "cell_type": "markdown",
   "id": "6532442d-e231-41a5-b2ef-4c6a3e6d0389",
   "metadata": {},
   "source": [
    "### Creating features"
   ]
  },
  {
   "cell_type": "code",
   "execution_count": 10,
   "id": "2cf1306a-7897-4ac6-afb7-e62f23f16a4a",
   "metadata": {},
   "outputs": [],
   "source": [
    "\n",
    "X = heart_final.drop('num', axis=1)\n",
    "y= heart_final.num\n"
   ]
  },
  {
   "cell_type": "markdown",
   "id": "56f03537-0715-403e-a5e0-d55b8dc994a3",
   "metadata": {},
   "source": [
    "### Splitting the dataset and training the model"
   ]
  },
  {
   "cell_type": "code",
   "execution_count": 11,
   "id": "07102591-26c5-4418-8dfe-e6dae6ce4431",
   "metadata": {},
   "outputs": [],
   "source": [
    "X_train, X_test, y_train, y_test = train_test_split(X, y, train_size=0.8, random_state=42)"
   ]
  },
  {
   "cell_type": "code",
   "execution_count": 35,
   "id": "9692d261-4808-4aea-bf1d-31bc0d2572c2",
   "metadata": {},
   "outputs": [],
   "source": [
    "rfc= RandomForestClassifier(n_estimators=150)\n",
    "rfc.fit(X_train, y_train)\n",
    "from sklearn.metrics import accuracy_score, precision_score, recall_score, f1_score, roc_auc_score, confusion_matrix"
   ]
  },
  {
   "cell_type": "markdown",
   "id": "e628110f-430a-4b04-85a2-eb82ab493ddc",
   "metadata": {},
   "source": [
    "### Checking precision, accuracy and other statistics."
   ]
  },
  {
   "cell_type": "code",
   "execution_count": 36,
   "id": "0523891b-c1f4-4cda-a7bb-2a34161c84f9",
   "metadata": {},
   "outputs": [
    {
     "name": "stdout",
     "output_type": "stream",
     "text": [
      "Accuracy: 0.8833333333333333\n",
      "Precision: 0.8695652173913043\n",
      "Recall: 0.8333333333333334\n",
      "F1 Score: 0.851063829787234\n",
      "ROC AUC: 0.875\n",
      "Confusion Matrix:\n",
      " [[33  3]\n",
      " [ 4 20]]\n"
     ]
    }
   ],
   "source": [
    "y_pred = rfc.predict(X_test)\n",
    "\n",
    "print(\"Accuracy:\", accuracy_score(y_test, y_pred))\n",
    "print(\"Precision:\", precision_score(y_test, y_pred))\n",
    "print(\"Recall:\", recall_score(y_test, y_pred))\n",
    "print(\"F1 Score:\", f1_score(y_test, y_pred))\n",
    "print(\"ROC AUC:\", roc_auc_score(y_test, y_pred))\n",
    "print(\"Confusion Matrix:\\n\", confusion_matrix(y_test, y_pred))"
   ]
  },
  {
   "cell_type": "markdown",
   "id": "8e5ee130-7b73-4571-b9e8-433c0a3d54c0",
   "metadata": {},
   "source": [
    "### Saving the model"
   ]
  },
  {
   "cell_type": "code",
   "execution_count": 42,
   "id": "63964c92-d92a-40d8-a253-17a716247618",
   "metadata": {},
   "outputs": [],
   "source": [
    "import pickle\n",
    "\n",
    "with open('heart_model.pkl', 'wb') as f:\n",
    "    pickle.dump(rfc, f)"
   ]
  }
 ],
 "metadata": {
  "kernelspec": {
   "display_name": "Python 3 (ipykernel)",
   "language": "python",
   "name": "python3"
  },
  "language_info": {
   "codemirror_mode": {
    "name": "ipython",
    "version": 3
   },
   "file_extension": ".py",
   "mimetype": "text/x-python",
   "name": "python",
   "nbconvert_exporter": "python",
   "pygments_lexer": "ipython3",
   "version": "3.10.2"
  }
 },
 "nbformat": 4,
 "nbformat_minor": 5
}
